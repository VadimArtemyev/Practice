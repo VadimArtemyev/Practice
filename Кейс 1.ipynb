{
 "cells": [
  {
   "cell_type": "code",
   "execution_count": 2,
   "id": "a5fb1c74-e32d-45f4-850e-3da52f52ab2c",
   "metadata": {},
   "outputs": [
    {
     "name": "stdout",
     "output_type": "stream",
     "text": [
      "Сумма отрицательных элементов между максимальным и минимальным: -7\n"
     ]
    }
   ],
   "source": [
    "def sum_negative_between_min_max(A):\n",
    "    # Находим индексы максимального и минимального элементов\n",
    "    max_index = A.index(max(A))\n",
    "    min_index = A.index(min(A))\n",
    "    \n",
    "    # Определяем диапазон между минимальным и максимальным индексами\n",
    "    if max_index < min_index:\n",
    "        start, end = max_index + 1, min_index\n",
    "    else:\n",
    "        start, end = min_index + 1, max_index\n",
    "    \n",
    "    # Считаем сумму отрицательных элементов в диапазоне\n",
    "    negative_sum = sum(x for x in A[start:end] if x < 0)\n",
    "    return negative_sum\n",
    "\n",
    "# Пример использования\n",
    "A = [1, -3, 14, -2, -5, 6, -7]\n",
    "result = sum_negative_between_min_max(A)\n",
    "print(\"Сумма отрицательных элементов между максимальным и минимальным:\", result)\n"
   ]
  },
  {
   "cell_type": "code",
   "execution_count": null,
   "id": "773090dc-1fea-4db2-a0f0-6c2db900354d",
   "metadata": {},
   "outputs": [],
   "source": []
  }
 ],
 "metadata": {
  "kernelspec": {
   "display_name": "Python 3 (ipykernel)",
   "language": "python",
   "name": "python3"
  },
  "language_info": {
   "codemirror_mode": {
    "name": "ipython",
    "version": 3
   },
   "file_extension": ".py",
   "mimetype": "text/x-python",
   "name": "python",
   "nbconvert_exporter": "python",
   "pygments_lexer": "ipython3",
   "version": "3.12.2"
  }
 },
 "nbformat": 4,
 "nbformat_minor": 5
}
