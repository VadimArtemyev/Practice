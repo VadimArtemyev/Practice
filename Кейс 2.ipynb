{
 "cells": [
  {
   "cell_type": "code",
   "execution_count": 3,
   "id": "a5fb1c74-e32d-45f4-850e-3da52f52ab2c",
   "metadata": {},
   "outputs": [
    {
     "name": "stdout",
     "output_type": "stream",
     "text": [
      "Базовый класс:\n",
      "Животное издает звук.\n",
      "\n",
      "Производный класс:\n",
      "Собака лает.\n",
      "Собака приносит палку.\n"
     ]
    }
   ],
   "source": [
    "# Базовый класс\n",
    "class Animal:\n",
    "    def __init__(self, name):\n",
    "        self.name = name\n",
    "\n",
    "    def make_sound(self):\n",
    "        return f\"{self.name} издает звук.\"\n",
    "\n",
    "# Производный класс\n",
    "class Dog(Animal):\n",
    "    def make_sound(self):\n",
    "        return f\"{self.name} лает.\"\n",
    "\n",
    "    def fetch(self):\n",
    "        return f\"{self.name} приносит палку.\"\n",
    "\n",
    "# Тестовая программа\n",
    "def main():\n",
    "    # Создание объекта базового класса\n",
    "    animal = Animal(\"Животное\")\n",
    "    print(\"Базовый класс:\")\n",
    "    print(animal.make_sound())  # Использует метод базового класса\n",
    "\n",
    "    # Создание объекта производного класса\n",
    "    dog = Dog(\"Собака\")\n",
    "    print(\"\\nПроизводный класс:\")\n",
    "    print(dog.make_sound())  # Переопределенный метод производного класса\n",
    "    print(dog.fetch())       # Метод, который существует только в производном классе\n",
    "\n",
    "# Запуск тестовой программы\n",
    "if __name__ == \"__main__\":\n",
    "    main()\n"
   ]
  },
  {
   "cell_type": "code",
   "execution_count": null,
   "id": "773090dc-1fea-4db2-a0f0-6c2db900354d",
   "metadata": {},
   "outputs": [],
   "source": []
  }
 ],
 "metadata": {
  "kernelspec": {
   "display_name": "Python 3 (ipykernel)",
   "language": "python",
   "name": "python3"
  },
  "language_info": {
   "codemirror_mode": {
    "name": "ipython",
    "version": 3
   },
   "file_extension": ".py",
   "mimetype": "text/x-python",
   "name": "python",
   "nbconvert_exporter": "python",
   "pygments_lexer": "ipython3",
   "version": "3.12.2"
  }
 },
 "nbformat": 4,
 "nbformat_minor": 5
}
